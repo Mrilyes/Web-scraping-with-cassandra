{
 "cells": [
  {
   "cell_type": "code",
   "execution_count": 1,
   "id": "af85f051",
   "metadata": {},
   "outputs": [],
   "source": [
    "from app import db , crud , models , main"
   ]
  },
  {
   "cell_type": "code",
   "execution_count": 2,
   "id": "e7a1ccde",
   "metadata": {},
   "outputs": [],
   "source": [
    "session = db.get_session()\n",
    "main.on_startup()"
   ]
  },
  {
   "cell_type": "code",
   "execution_count": 9,
   "id": "bb973f7d",
   "metadata": {
    "scrolled": true
   },
   "outputs": [
    {
     "data": {
      "text/plain": [
       "{'asin': 'AMZNIDNUMBERddd', 'title': 'Mark 1'}"
      ]
     },
     "execution_count": 9,
     "metadata": {},
     "output_type": "execute_result"
    }
   ],
   "source": [
    "data = models.data\n",
    "data"
   ]
  },
  {
   "cell_type": "code",
   "execution_count": 4,
   "id": "293bef3f",
   "metadata": {
    "scrolled": true
   },
   "outputs": [
    {
     "data": {
      "text/plain": [
       "(Product(asin='AMZNIDNUMBERddd', title='Mark 1', price='100'),\n",
       " ProductScrapeEvent(uuid=UUID('d7e05a8c-75a0-11ed-9802-b4a9fca7bcb9'), asin='AMZNIDNUMBERddd', title='Mark 1', price='100'))"
      ]
     },
     "execution_count": 4,
     "metadata": {},
     "output_type": "execute_result"
    }
   ],
   "source": [
    "crud.add_scrape_event(data , fresh = True)"
   ]
  },
  {
   "cell_type": "code",
   "execution_count": 5,
   "id": "c69c463d",
   "metadata": {},
   "outputs": [
    {
     "name": "stdout",
     "output_type": "stream",
     "text": [
      "test\n",
      "AMZNIDNUMBERddd\n",
      "AMZNIDNUMBERdd\n",
      "AMZNIDNUMBERd\n"
     ]
    }
   ],
   "source": [
    "asin = 'AMZNIDNUMBERddd'\n",
    "for obj in models.Product.objects().all():\n",
    "    print(obj.asin)"
   ]
  },
  {
   "cell_type": "code",
   "execution_count": 6,
   "id": "06c22a1d",
   "metadata": {},
   "outputs": [
    {
     "name": "stdout",
     "output_type": "stream",
     "text": [
      "scrape even for AMZNIDNUMBERddd\n",
      "0 AMZNIDNUMBERddd ed71ca11-7421-11ed-b110-b4a9fca7bcb9\n",
      "1 AMZNIDNUMBERddd 4f359ff1-7420-11ed-89fc-b4a9fca7bcb9\n",
      "2 AMZNIDNUMBERddd dada5482-7421-11ed-9a61-b4a9fca7bcb9\n",
      "3 AMZNIDNUMBERddd 52774d1c-7420-11ed-a608-b4a9fca7bcb9\n",
      "4 AMZNIDNUMBERddd 51220c77-7420-11ed-bcf0-b4a9fca7bcb9\n",
      "5 AMZNIDNUMBERddd db60adb2-7570-11ed-a79f-b4a9fca7bcb9\n",
      "6 AMZNIDNUMBERddd 483a0cd9-7420-11ed-86af-b4a9fca7bcb9\n",
      "7 AMZNIDNUMBERddd 56b7ce50-7420-11ed-94d3-b4a9fca7bcb9\n",
      "8 AMZNIDNUMBERddd 53c8426d-756b-11ed-beed-b4a9fca7bcb9\n",
      "9 AMZNIDNUMBERddd 58168f32-7420-11ed-bd98-b4a9fca7bcb9\n",
      "10 AMZNIDNUMBERddd 4bb3c2ca-7420-11ed-bb69-b4a9fca7bcb9\n",
      "11 AMZNIDNUMBERddd d7e05a8c-75a0-11ed-9802-b4a9fca7bcb9\n",
      "12 AMZNIDNUMBERddd fe4fa814-741f-11ed-bdd9-b4a9fca7bcb9\n",
      "13 AMZNIDNUMBERddd 540f1ba0-7420-11ed-aff0-b4a9fca7bcb9\n",
      "14 AMZNIDNUMBERddd 66e587dc-7422-11ed-913b-b4a9fca7bcb9\n"
     ]
    }
   ],
   "source": [
    "if asin is not None:\n",
    "    print(f\"scrape even for {asin}\")\n",
    "    q = models.ProductScrapeEvent.objects.filter(asin=asin)\n",
    "    for i , obj in enumerate(q):\n",
    "        print(i , obj.asin , obj.uuid)"
   ]
  },
  {
   "cell_type": "code",
   "execution_count": 7,
   "id": "20a01a17",
   "metadata": {},
   "outputs": [
    {
     "name": "stdout",
     "output_type": "stream",
     "text": [
      "SELECT * FROM web_scrape.product LIMIT 10000\n"
     ]
    }
   ],
   "source": [
    "print(models.Product.objects().all())"
   ]
  },
  {
   "cell_type": "code",
   "execution_count": 8,
   "id": "03b551f8",
   "metadata": {},
   "outputs": [
    {
     "name": "stdout",
     "output_type": "stream",
     "text": [
      "{'asin': 'test', 'price': '100', 'title': 'las'}\n",
      "{'asin': 'AMZNIDNUMBERddd', 'price': '100', 'title': 'Mark 1'}\n",
      "{'asin': 'AMZNIDNUMBERdd', 'price': '100', 'title': 'Mark 2'}\n",
      "{'asin': 'AMZNIDNUMBERd', 'price': None, 'title': 'Mark 2'}\n"
     ]
    }
   ],
   "source": [
    "for row in session.execute('SELECT * FROM web_scrape.product LIMIT 1000  '):\n",
    "    print(row)"
   ]
  },
  {
   "cell_type": "code",
   "execution_count": 9,
   "id": "359cc635",
   "metadata": {},
   "outputs": [
    {
     "name": "stdout",
     "output_type": "stream",
     "text": [
      "SELECT * FROM web_scrape.product LIMIT 10000\n",
      "{'asin': 'test', 'price': '100', 'title': 'las'}\n",
      "{'asin': 'AMZNIDNUMBERddd', 'price': '100', 'title': 'Mark 1'}\n",
      "{'asin': 'AMZNIDNUMBERdd', 'price': '100', 'title': 'Mark 2'}\n",
      "{'asin': 'AMZNIDNUMBERd', 'price': None, 'title': 'Mark 2'}\n"
     ]
    }
   ],
   "source": [
    "# another way to actually run the above \n",
    "q = models.Product.objects().all()\n",
    "cquery = str(q._select_query())\n",
    "print(cquery)\n",
    "for row in session.execute('SELECT * FROM web_scrape.product LIMIT 1000  '):\n",
    "    print(row)"
   ]
  }
 ],
 "metadata": {
  "kernelspec": {
   "display_name": "Python 3 (ipykernel)",
   "language": "python",
   "name": "python3"
  },
  "language_info": {
   "codemirror_mode": {
    "name": "ipython",
    "version": 3
   },
   "file_extension": ".py",
   "mimetype": "text/x-python",
   "name": "python",
   "nbconvert_exporter": "python",
   "pygments_lexer": "ipython3",
   "version": "3.10.7"
  }
 },
 "nbformat": 4,
 "nbformat_minor": 5
}
