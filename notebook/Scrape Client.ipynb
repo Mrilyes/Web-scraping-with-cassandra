{
 "cells": [
  {
   "cell_type": "code",
   "execution_count": 6,
   "id": "bd7eca6e",
   "metadata": {},
   "outputs": [],
   "source": [
    "from requests_html import HTML\n",
    "from slugify import slugify\n",
    "import pprint\n",
    "import re\n",
    "from uuid import UUID\n",
    "from app import (\n",
    "    db,\n",
    "    crud,\n",
    "    scraper,\n",
    "    schema,\n",
    "    models\n",
    ")"
   ]
  },
  {
   "cell_type": "code",
   "execution_count": 1,
   "id": "3def1385",
   "metadata": {},
   "outputs": [],
   "source": [
    "from app import (\n",
    "    db,\n",
    "    crud,\n",
    "    scraper,\n",
    "    schema,\n",
    "    models\n",
    ")"
   ]
  },
  {
   "cell_type": "code",
   "execution_count": 2,
   "id": "ea23cfa6",
   "metadata": {},
   "outputs": [],
   "source": [
    "url = \"https://www.amazon.com/Vitamix-E310-Explorian-Professional-Grade-Container/dp/B0758JHZM3/ref=sr_1_3?dchild=1&keywords=vitamix&qid=1632337952&sr=8-3&th=1\"\n"
   ]
  },
  {
   "cell_type": "code",
   "execution_count": 3,
   "id": "9e78cb19",
   "metadata": {},
   "outputs": [],
   "source": [
    "s = scraper.Scraper(url=url, endless_scroll=True)"
   ]
  },
  {
   "cell_type": "code",
   "execution_count": 4,
   "id": "958fb908",
   "metadata": {},
   "outputs": [
    {
     "data": {
      "text/plain": [
       "{'price_str': '',\n",
       " 'title_str': 'Vitamix VM0197 Explorian Blender, Professional-Grade, 48 oz. Container, Black',\n",
       " 'total': '$645.99',\n",
       " 'total_raw': '$645.99',\n",
       " 'brand': 'Vitamix',\n",
       " 'color': 'Black',\n",
       " 'special-feature': 'Not-Applicable',\n",
       " 'capacity': '48 Fluid Ounces',\n",
       " 'product-dimensions': '8\"D x 11\"W x 18\"H',\n",
       " 'material': 'Tritan',\n",
       " 'included-components': \"Container^ Lid^ Tamper^ Motor Base^ Owner's Manual^ Introduction Booklet\",\n",
       " 'style': 'Blender',\n",
       " 'recommended-uses-for-product': 'Blending',\n",
       " 'power-source': 'AC',\n",
       " 'wattage': '1400 watts',\n",
       " 'number-of-speeds': '10',\n",
       " 'voltage': '120 Volts',\n",
       " 'item-weight': '11.5 Pounds',\n",
       " 'material-type-free': 'BPA Free',\n",
       " 'is-dishwasher-safe': 'Yes',\n",
       " 'blade-material': 'Stainless Steel',\n",
       " 'manufacturer': 'Vitamix',\n",
       " 'asin': 'B0758JHZM3',\n",
       " 'country-of-origin': 'USA',\n",
       " 'item-model-number': 'VM0197',\n",
       " 'customer-reviews': '/* \\n    * Fix for UDP-1061. Average customer reviews has a small extra line on hover \\n    * https://omni-grok.amazon.com/xref/src/appgroup/websiteTemplates/retail/SoftlinesDetailPageAssets/udp-intl-lock/src/legacy.css?indexName=WebsiteTemplates#40\\n    */\\n    .noUnderline a:hover { \\n        text-decoration: none; \\n    }\\n\\n\\n \\n  4.7 out of 5 stars    \\n    6,264 ratings   \\n                    P.when(\\'A\\', \\'ready\\').execute(function(A) {\\n                        A.declarative(\\'acrLink-click-metrics\\', \\'click\\', { \"allowLinkDefault\" : true }, function(event){\\n                            if(window.ue) {\\n                                ue.count(\"acrLinkClickCount\", (ue.count(\"acrLinkClickCount\") || 0) + 1);\\n                            }\\n                        });\\n                    });\\n                \\n\\n            P.when(\\'A\\', \\'cf\\').execute(function(A) {\\n                A.declarative(\\'acrStarsLink-click-metrics\\', \\'click\\', { \"allowLinkDefault\" : true },  function(event){\\n                    if(window.ue) {\\n                        ue.count(\"acrStarsLinkWithPopoverClickCount\", (ue.count(\"acrStarsLinkWithPopoverClickCount\") || 0) + 1);\\n                    }\\n                });\\n            });\\n        \\n\\n 4.7 out of 5 stars',\n",
       " 'best-sellers-rank': '#1,970 in Kitchen & Dining (See Top 100 in Kitchen & Dining)  #2 in Blender Replacement Parts  #12 in Countertop Blenders  #20 in Cocktail Drinkware',\n",
       " 'is-discontinued-by-manufacturer': 'No',\n",
       " 'date-first-available': 'August 31, 2017'}"
      ]
     },
     "execution_count": 4,
     "metadata": {},
     "output_type": "execute_result"
    }
   ],
   "source": [
    "dataset = s.scrape()\n",
    "dataset"
   ]
  },
  {
   "cell_type": "code",
   "execution_count": 5,
   "id": "66b99f19",
   "metadata": {},
   "outputs": [
    {
     "ename": "ValidationError",
     "evalue": "1 validation error for ProductScrapeEventSchema\nuuid\n  field required (type=value_error.missing)",
     "output_type": "error",
     "traceback": [
      "\u001b[1;31m---------------------------------------------\u001b[0m",
      "\u001b[1;31mValidationError\u001b[0mTraceback (most recent call last)",
      "Cell \u001b[1;32mIn[5], line 1\u001b[0m\n\u001b[1;32m----> 1\u001b[0m validated_data \u001b[38;5;241m=\u001b[39m schema\u001b[38;5;241m.\u001b[39mProductScrapeEventSchema(\u001b[38;5;241m*\u001b[39m\u001b[38;5;241m*\u001b[39mdataset)\n",
      "File \u001b[1;32m~\\Desktop\\web-scraping\\lib\\site-packages\\pydantic\\main.py:342\u001b[0m, in \u001b[0;36mpydantic.main.BaseModel.__init__\u001b[1;34m()\u001b[0m\n",
      "\u001b[1;31mValidationError\u001b[0m: 1 validation error for ProductScrapeEventSchema\nuuid\n  field required (type=value_error.missing)"
     ]
    }
   ],
   "source": [
    "validated_data = schema.ProductScrapeEventSchema(**dataset)"
   ]
  },
  {
   "cell_type": "code",
   "execution_count": null,
   "id": "7b84259b",
   "metadata": {},
   "outputs": [],
   "source": []
  }
 ],
 "metadata": {
  "kernelspec": {
   "display_name": "Python 3 (ipykernel)",
   "language": "python",
   "name": "python3"
  },
  "language_info": {
   "codemirror_mode": {
    "name": "ipython",
    "version": 3
   },
   "file_extension": ".py",
   "mimetype": "text/x-python",
   "name": "python",
   "nbconvert_exporter": "python",
   "pygments_lexer": "ipython3",
   "version": "3.10.7"
  }
 },
 "nbformat": 4,
 "nbformat_minor": 5
}
