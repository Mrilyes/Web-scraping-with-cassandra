{
 "cells": [
  {
   "cell_type": "code",
   "execution_count": 26,
   "id": "21078c3a",
   "metadata": {},
   "outputs": [],
   "source": [
    "from requests_html import HTML\n",
    "from slugify import slugify\n",
    "import pprint\n",
    "import re\n",
    "from app import scraper"
   ]
  },
  {
   "cell_type": "code",
   "execution_count": 27,
   "id": "2a38aea0",
   "metadata": {},
   "outputs": [],
   "source": [
    "url = \"https://www.amazon.com/Acer-A515-56-32DK-Display-i3-1115G4-Processor/dp/B09R5VYRVN/ref=lp_16225007011_1_6?th=1\"\n"
   ]
  },
  {
   "cell_type": "code",
   "execution_count": 28,
   "id": "510c8161",
   "metadata": {},
   "outputs": [],
   "source": [
    "s = scraper.Scraper(url = url, endless_scroll=True)"
   ]
  },
  {
   "cell_type": "code",
   "execution_count": 29,
   "id": "7b417487",
   "metadata": {},
   "outputs": [],
   "source": [
    "html_str = s.get()"
   ]
  },
  {
   "cell_type": "code",
   "execution_count": 30,
   "id": "79f96fca",
   "metadata": {},
   "outputs": [],
   "source": [
    "html_obj = HTML(html = html_str)"
   ]
  },
  {
   "cell_type": "code",
   "execution_count": 31,
   "id": "9fb86799",
   "metadata": {},
   "outputs": [],
   "source": [
    "def extract_element_text(html_obj, element_id):\n",
    "    el =  html_obj.find(element_id, first=True)\n",
    "    if not el:\n",
    "        return ''\n",
    "    return el.text"
   ]
  },
  {
   "cell_type": "code",
   "execution_count": 32,
   "id": "8d51069f",
   "metadata": {},
   "outputs": [
    {
     "data": {
      "text/plain": [
       "'$269.99'"
      ]
     },
     "execution_count": 32,
     "metadata": {},
     "output_type": "execute_result"
    }
   ],
   "source": [
    "price_str = extract_element_text(html_obj, '.a-offscreen')\n",
    "price_str\n"
   ]
  },
  {
   "cell_type": "code",
   "execution_count": 33,
   "id": "2c96f2c9",
   "metadata": {},
   "outputs": [
    {
     "data": {
      "text/plain": [
       "'Acer Aspire 5 A515-56-32DK Slim Laptop - 15.6\" Full HD IPS Display - 11th Gen Intel i3-1115G4 Dual Core Processor - 4GB DDR4 - 128GB NVMe SSD - WiFi 6\\xa0- Amazon Alexa - Windows 11 Home in S mode.'"
      ]
     },
     "execution_count": 33,
     "metadata": {},
     "output_type": "execute_result"
    }
   ],
   "source": [
    "title_str = extract_element_text(html_obj, \"#productTitle\")\n",
    "title_str"
   ]
  },
  {
   "cell_type": "code",
   "execution_count": 17,
   "id": "936ecdfe",
   "metadata": {},
   "outputs": [],
   "source": [
    "def extract_tables(html_obj):\n",
    "    return html_obj.find(\"table\")"
   ]
  },
  {
   "cell_type": "code",
   "execution_count": 22,
   "id": "11d0a07a",
   "metadata": {},
   "outputs": [
    {
     "data": {
      "text/plain": [
       "[<Element 'table' class=('a-lineitem',)>,\n",
       " <Element 'table' class=('a-normal', 'a-spacing-none', 'reInventPriceTable')>,\n",
       " <Element 'table' class=('a-lineitem',)>,\n",
       " <Element 'table' class=('a-normal', 'a-spacing-micro')>,\n",
       " <Element 'table' id='HLCXComparisonTable' class=('a-bordered', 'a-horizontal-stripes', 'a-spacing-none', 'a-size-base', 'comparison_table')>,\n",
       " <Element 'table' id='productDetails_detailBullets_sections1' class=('a-keyvalue', 'prodDetTable') role='presentation'>,\n",
       " <Element 'table' id='productDetails_feedback_sections' class=('a-keyvalue', 'prodDetTable') role='presentation'>,\n",
       " <Element 'table' id='histogramTable' class=('a-normal', 'a-spacing-none') role='presentation'>,\n",
       " <Element 'table' id='histogramTable' class=('a-normal', 'a-align-center', 'a-spacing-base')>,\n",
       " <Element 'table' class=('navFooterMoreOnAmazon',) cellspacing='0'>]"
      ]
     },
     "execution_count": 22,
     "metadata": {},
     "output_type": "execute_result"
    }
   ],
   "source": [
    "tables = extract_tables(html_obj)\n",
    "tables"
   ]
  },
  {
   "cell_type": "code",
   "execution_count": 23,
   "id": "110f09bb",
   "metadata": {},
   "outputs": [],
   "source": [
    "def extract_price_from_string(value: str, regex=r\"[\\$]{1}[\\d,]+\\.?\\d{0,2}\"):\n",
    "    x = re.findall(regex, value)\n",
    "    val = None\n",
    "    if len(x) == 1:\n",
    "        val = x[0]\n",
    "    return val"
   ]
  },
  {
   "cell_type": "code",
   "execution_count": 24,
   "id": "f88ebaa5",
   "metadata": {},
   "outputs": [],
   "source": [
    "def extract_dataset(tables):\n",
    "    dataset = {}\n",
    "    for table in tables:\n",
    "        for tbody in table.element.getchildren():\n",
    "            for tr in tbody.getchildren():\n",
    "                row = []\n",
    "                for col in tr.getchildren():\n",
    "                    content = \"\"\n",
    "                    try:\n",
    "                        content = col.text_content()\n",
    "                    except:\n",
    "                        pass\n",
    "                    if content != \"\":\n",
    "                        _content = content.strip()\n",
    "                        row.append(_content)\n",
    "                if len(row) != 2:\n",
    "                    continue\n",
    "                key = row[0]\n",
    "                value = row[1]\n",
    "                \n",
    "                # print(key, value)\n",
    "                data = {}\n",
    "                key = slugify(key)\n",
    "                if key in dataset:\n",
    "                    continue\n",
    "                else:\n",
    "                    if \"$\" in value:\n",
    "                        new_key = key\n",
    "                        old_key = f'{key}_raw'\n",
    "                        new_value = extract_price_from_string(value)\n",
    "                        old_value = value\n",
    "                        dataset[new_key] = new_value\n",
    "                        dataset[old_key] = old_value\n",
    "                    else:\n",
    "                        dataset[key] = value\n",
    "    return dataset\n"
   ]
  },
  {
   "cell_type": "code",
   "execution_count": 25,
   "id": "d0c9375e",
   "metadata": {},
   "outputs": [
    {
     "data": {
      "text/plain": [
       "{'total': '$642.37',\n",
       " 'total_raw': '$642.37',\n",
       " 'brand': 'Vitamix',\n",
       " 'color': 'Black',\n",
       " 'special-feature': 'Not-Applicable',\n",
       " 'capacity': '48 Fluid Ounces',\n",
       " 'product-dimensions': '8\"D x 11\"W x 18\"H',\n",
       " 'material': 'Tritan',\n",
       " 'included-components': \"Container^ Lid^ Tamper^ Motor Base^ Owner's Manual^ Introduction Booklet\",\n",
       " 'style': 'Blender',\n",
       " 'recommended-uses-for-product': 'Blending',\n",
       " 'power-source': 'AC',\n",
       " 'wattage': '1400 watts',\n",
       " 'number-of-speeds': '10',\n",
       " 'voltage': '120 Volts',\n",
       " 'item-weight': '11.5 Pounds',\n",
       " 'material-type-free': 'BPA Free',\n",
       " 'is-dishwasher-safe': 'Yes',\n",
       " 'blade-material': 'Stainless Steel',\n",
       " 'manufacturer': 'Vitamix',\n",
       " 'asin': 'B0758JHZM3',\n",
       " 'country-of-origin': 'USA',\n",
       " 'item-model-number': 'VM0197',\n",
       " 'customer-reviews': '/* \\n    * Fix for UDP-1061. Average customer reviews has a small extra line on hover \\n    * https://omni-grok.amazon.com/xref/src/appgroup/websiteTemplates/retail/SoftlinesDetailPageAssets/udp-intl-lock/src/legacy.css?indexName=WebsiteTemplates#40\\n    */\\n    .noUnderline a:hover { \\n        text-decoration: none; \\n    }\\n\\n\\n \\n  4.7 out of 5 stars    \\n    6,264 ratings   \\n                    P.when(\\'A\\', \\'ready\\').execute(function(A) {\\n                        A.declarative(\\'acrLink-click-metrics\\', \\'click\\', { \"allowLinkDefault\" : true }, function(event){\\n                            if(window.ue) {\\n                                ue.count(\"acrLinkClickCount\", (ue.count(\"acrLinkClickCount\") || 0) + 1);\\n                            }\\n                        });\\n                    });\\n                \\n\\n            P.when(\\'A\\', \\'cf\\').execute(function(A) {\\n                A.declarative(\\'acrStarsLink-click-metrics\\', \\'click\\', { \"allowLinkDefault\" : true },  function(event){\\n                    if(window.ue) {\\n                        ue.count(\"acrStarsLinkWithPopoverClickCount\", (ue.count(\"acrStarsLinkWithPopoverClickCount\") || 0) + 1);\\n                    }\\n                });\\n            });\\n        \\n\\n 4.7 out of 5 stars',\n",
       " 'best-sellers-rank': '#1,905 in Kitchen & Dining (See Top 100 in Kitchen & Dining)  #2 in Blender Replacement Parts  #12 in Countertop Blenders  #18 in Cocktail Drinkware',\n",
       " 'is-discontinued-by-manufacturer': 'No',\n",
       " 'date-first-available': 'August 31, 2017'}"
      ]
     },
     "execution_count": 25,
     "metadata": {},
     "output_type": "execute_result"
    }
   ],
   "source": [
    "extract_dataset(tables)"
   ]
  },
  {
   "cell_type": "code",
   "execution_count": null,
   "id": "e0933924",
   "metadata": {},
   "outputs": [],
   "source": []
  }
 ],
 "metadata": {
  "kernelspec": {
   "display_name": "Python 3 (ipykernel)",
   "language": "python",
   "name": "python3"
  },
  "language_info": {
   "codemirror_mode": {
    "name": "ipython",
    "version": 3
   },
   "file_extension": ".py",
   "mimetype": "text/x-python",
   "name": "python",
   "nbconvert_exporter": "python",
   "pygments_lexer": "ipython3",
   "version": "3.10.7"
  }
 },
 "nbformat": 4,
 "nbformat_minor": 5
}
