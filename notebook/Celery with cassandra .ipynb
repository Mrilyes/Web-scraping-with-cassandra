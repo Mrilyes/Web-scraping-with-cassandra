{
 "cells": [
  {
   "cell_type": "code",
   "execution_count": 6,
   "id": "05102e81",
   "metadata": {},
   "outputs": [],
   "source": [
    "from app.worker import list_products \n",
    "from app import db"
   ]
  },
  {
   "cell_type": "code",
   "execution_count": 9,
   "id": "bf0cd864",
   "metadata": {},
   "outputs": [
    {
     "name": "stdout",
     "output_type": "stream",
     "text": [
      "['test', 'http_test', 'AMZNIDNUMBERddd', 'AMZNIDNUMBERdd', 'AMZNIDNUMBERd']\n"
     ]
    }
   ],
   "source": [
    "session = db.get_session()\n",
    "list_products()"
   ]
  },
  {
   "cell_type": "code",
   "execution_count": 10,
   "id": "61b4bb03",
   "metadata": {},
   "outputs": [
    {
     "data": {
      "text/plain": [
       "<AsyncResult: 8b395edc-9b5d-41dc-b0ba-e79f10325a21>"
      ]
     },
     "execution_count": 10,
     "metadata": {},
     "output_type": "execute_result"
    }
   ],
   "source": [
    "list_products.delay()"
   ]
  },
  {
   "cell_type": "code",
   "execution_count": null,
   "id": "8a44476b",
   "metadata": {},
   "outputs": [],
   "source": []
  }
 ],
 "metadata": {
  "kernelspec": {
   "display_name": "Python 3 (ipykernel)",
   "language": "python",
   "name": "python3"
  },
  "language_info": {
   "codemirror_mode": {
    "name": "ipython",
    "version": 3
   },
   "file_extension": ".py",
   "mimetype": "text/x-python",
   "name": "python",
   "nbconvert_exporter": "python",
   "pygments_lexer": "ipython3",
   "version": "3.10.7"
  }
 },
 "nbformat": 4,
 "nbformat_minor": 5
}
