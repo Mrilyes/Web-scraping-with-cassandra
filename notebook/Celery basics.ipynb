{
 "cells": [
  {
   "cell_type": "code",
   "execution_count": 1,
   "id": "05102e81",
   "metadata": {},
   "outputs": [],
   "source": [
    "from app import worker "
   ]
  },
  {
   "cell_type": "code",
   "execution_count": 2,
   "id": "bf0cd864",
   "metadata": {},
   "outputs": [
    {
     "name": "stdout",
     "output_type": "stream",
     "text": [
      "Who throws a shoe. Honestly ilyes.\n"
     ]
    }
   ],
   "source": [
    "worker.random_task(\"ilyes\")"
   ]
  },
  {
   "cell_type": "code",
   "execution_count": 7,
   "id": "1109b77a",
   "metadata": {},
   "outputs": [],
   "source": [
    "sig = worker.random_task.s(\"ilyes\")"
   ]
  },
  {
   "cell_type": "code",
   "execution_count": 8,
   "id": "e4524886",
   "metadata": {},
   "outputs": [
    {
     "name": "stdout",
     "output_type": "stream",
     "text": [
      "Who throws a shoe. Honestly ilyes.\n"
     ]
    }
   ],
   "source": [
    "sig()"
   ]
  },
  {
   "cell_type": "code",
   "execution_count": 6,
   "id": "61b4bb03",
   "metadata": {},
   "outputs": [
    {
     "data": {
      "text/plain": [
       "<AsyncResult: a36ebb06-decf-47eb-8684-742a945544ae>"
      ]
     },
     "execution_count": 6,
     "metadata": {},
     "output_type": "execute_result"
    }
   ],
   "source": [
    "worker.random_task.delay(\"ilyes\")"
   ]
  },
  {
   "cell_type": "code",
   "execution_count": 4,
   "id": "8ba7498c",
   "metadata": {},
   "outputs": [],
   "source": [
    "for i in range(10):\n",
    "    worker.random_task.delay(f\"ilyes - {i}\")"
   ]
  },
  {
   "cell_type": "code",
   "execution_count": null,
   "id": "8a44476b",
   "metadata": {},
   "outputs": [],
   "source": []
  }
 ],
 "metadata": {
  "kernelspec": {
   "display_name": "Python 3 (ipykernel)",
   "language": "python",
   "name": "python3"
  },
  "language_info": {
   "codemirror_mode": {
    "name": "ipython",
    "version": 3
   },
   "file_extension": ".py",
   "mimetype": "text/x-python",
   "name": "python",
   "nbconvert_exporter": "python",
   "pygments_lexer": "ipython3",
   "version": "3.10.7"
  }
 },
 "nbformat": 4,
 "nbformat_minor": 5
}
