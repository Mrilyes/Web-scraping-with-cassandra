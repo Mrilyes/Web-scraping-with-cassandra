{
 "cells": [
  {
   "cell_type": "code",
   "execution_count": 1,
   "id": "62f4cf38",
   "metadata": {},
   "outputs": [],
   "source": [
    "from app import (\n",
    "    db,\n",
    "    crud,\n",
    "    scraper,\n",
    "    schema,\n",
    "    models\n",
    ")"
   ]
  },
  {
   "cell_type": "code",
   "execution_count": null,
   "id": "c01c7d03",
   "metadata": {},
   "outputs": [],
   "source": [
    "#asin = \"B0BLGFBF8C\"\n",
    "#url = f\"https://www.amazon.com/dp/{asin}/\""
   ]
  },
  {
   "cell_type": "code",
   "execution_count": 2,
   "id": "4ed1a976",
   "metadata": {},
   "outputs": [],
   "source": [
    "url = \"https://www.amazon.com/dp/B09R9FMB65/ref=sspa_dk_detail_6?pd_rd_i=B09R9FMB65&pd_rd_w=vA1Xq&content-id=amzn1.sym.46bad5f6-1f0a-4167-9a8b-c8a82fa48a54&pf_rd_p=46bad5f6-1f0a-4167-9a8b-c8a82fa48a54&pf_rd_r=AX21ATEKQM7X3JG0VM57&pd_rd_wg=6BCdz&pd_rd_r=aa8766a6-e155-49ac-bb4d-c8481aafd59b&s=pc&sp_csd=d2lkZ2V0TmFtZT1zcF9kZXRhaWw&spLa=ZW5jcnlwdGVkUXVhbGlmaWVyPUExM0dKUU1CU09QUFo0JmVuY3J5cHRlZElkPUEwNzM4NTEyMTlDWlNaSktMVFpLQyZlbmNyeXB0ZWRBZElkPUEwMzkxMjA1M0lMUFFQSEhNSzRMSiZ3aWRnZXROYW1lPXNwX2RldGFpbCZhY3Rpb249Y2xpY2tSZWRpcmVjdCZkb05vdExvZ0NsaWNrPXRydWU&th=1\""
   ]
  },
  {
   "cell_type": "code",
   "execution_count": 3,
   "id": "78dd31f5",
   "metadata": {},
   "outputs": [],
   "source": [
    "s = scraper.Scraper(url=url, endless_scroll=True)"
   ]
  },
  {
   "cell_type": "code",
   "execution_count": 4,
   "id": "650ecfba",
   "metadata": {},
   "outputs": [],
   "source": [
    "dataset = s.scrape()"
   ]
  },
  {
   "cell_type": "code",
   "execution_count": 9,
   "id": "f56d32c4",
   "metadata": {},
   "outputs": [
    {
     "data": {
      "text/plain": [
       "{'price_str': '$509.99',\n",
       " 'title_str': 'Lenovo - 2022 - IdeaPad 3 - Travel Laptop Computer - AMD Ryzen 5 - 17.3\" FHD Display - 8GB Memory - 512GB Storage - Windows 11 Home',\n",
       " 'title': 'Lenovo - 2022 - IdeaPad 3 - Travel Laptop Computer - AMD Ryzen 5 - 17.3\" FHD Display - 8GB Memory - 512GB Storage - Windows 11 Home',\n",
       " 'total': '$600.14',\n",
       " 'total_raw': '$600.14',\n",
       " 'brand': 'Lenovo',\n",
       " 'series': '2022',\n",
       " 'screen_size': '17.3',\n",
       " 'color': 'Arctic Grey',\n",
       " 'cpu_model': 'Ryzen 5',\n",
       " 'ram_memory_installed_size': '8 GB',\n",
       " 'operating_system': 'Windows 11',\n",
       " 'card_description': 'Integrated',\n",
       " 'graphics_coprocessor': 'AMD Radeon Vega 7',\n",
       " 'cpu_speed': '2.3 GHz',\n",
       " 'standing_screen_display_size': '\\u200e17.3',\n",
       " 'max_screen_resolution': '\\u200e1920 x 1080 Pixels',\n",
       " 'processor': '\\u200e2.3 GHz ryzen_5',\n",
       " 'ram': '\\u200e8 GB DDR4',\n",
       " 'hard_drive': '\\u200eSSD',\n",
       " 'chipset_brand': '\\u200eAMD',\n",
       " 'wireless_type': '\\u200e802.11ax',\n",
       " 'number_of_usb_2_0_ports': '\\u200e1',\n",
       " 'number_of_usb_3_0_ports': '\\u200e2',\n",
       " 'average_battery_life_in_hours': '\\u200e9 Hours',\n",
       " 'item_model_number': '\\u200e82RQ002XUS',\n",
       " 'item_weight': '\\u200e4.84 pounds',\n",
       " 'product_dimensions': '\\u200e15.71 x 10.79 x 0.78 inches',\n",
       " 'item_dimensions_lxwxh': '\\u200e15.71 x 10.79 x 0.78 inches',\n",
       " 'processor_brand': '\\u200eAMD',\n",
       " 'processor_count': '\\u200e1',\n",
       " 'batteries': '\\u200e1 Lithium Ion batteries required. (included)',\n",
       " 'asin': 'B09YWMXYQG',\n",
       " 'customer_reviews': '/* \\n    * Fix for UDP-1061. Average customer reviews has a small extra line on hover \\n    * https://omni-grok.amazon.com/xref/src/appgroup/websiteTemplates/retail/SoftlinesDetailPageAssets/udp-intl-lock/src/legacy.css?indexName=WebsiteTemplates#40\\n    */\\n    .noUnderline a:hover { \\n        text-decoration: none; \\n    }\\n\\n\\n \\n  4.5 out of 5 stars    \\n    185 ratings   \\n                    P.when(\\'A\\', \\'ready\\').execute(function(A) {\\n                        A.declarative(\\'acrLink-click-metrics\\', \\'click\\', { \"allowLinkDefault\" : true }, function(event){\\n                            if(window.ue) {\\n                                ue.count(\"acrLinkClickCount\", (ue.count(\"acrLinkClickCount\") || 0) + 1);\\n                            }\\n                        });\\n                    });\\n                \\n\\n            P.when(\\'A\\', \\'cf\\').execute(function(A) {\\n                A.declarative(\\'acrStarsLink-click-metrics\\', \\'click\\', { \"allowLinkDefault\" : true },  function(event){\\n                    if(window.ue) {\\n                        ue.count(\"acrStarsLinkWithPopoverClickCount\", (ue.count(\"acrStarsLinkWithPopoverClickCount\") || 0) + 1);\\n                    }\\n                });\\n            });\\n        \\n\\n 4.5 out of 5 stars',\n",
       " 'best_sellers_rank': '#1,094 in Computers & Accessories (See Top 100 in Computers & Accessories)  #140 in Traditional Laptop Computers',\n",
       " 'date_first_available': 'April 26, 2022'}"
      ]
     },
     "execution_count": 9,
     "metadata": {},
     "output_type": "execute_result"
    }
   ],
   "source": [
    "dataset"
   ]
  },
  {
   "cell_type": "code",
   "execution_count": 5,
   "id": "262598cb",
   "metadata": {},
   "outputs": [],
   "source": [
    "validated_data = schema.ProductListSchema(**dataset)"
   ]
  },
  {
   "cell_type": "code",
   "execution_count": 6,
   "id": "69f584dd",
   "metadata": {},
   "outputs": [
    {
     "data": {
      "text/plain": [
       "{'asin': 'B09R9FMB65',\n",
       " 'title': 'SAMSUNG 15.6” Galaxy Book2 Pro Laptop Computer, i7 / 16GB / 512GB, 12th Gen Intel Core Processor, Evo Certified, Lightweight, 2022 Model, Silver',\n",
       " 'price_str': '$1,448.97',\n",
       " 'brand': 'SAMSUNG',\n",
       " 'country_of_origin': None,\n",
       " 'screen_size': '15.6 Inches',\n",
       " 'color': 'Silver',\n",
       " 'hard_disk_size': None,\n",
       " 'cpu_model': 'Intel Core i7',\n",
       " 'ram_memory_installed_size': '16 GB',\n",
       " 'operating_system': 'Windows 11 Home',\n",
       " 'card_description': 'Integrated',\n",
       " 'graphics_coprocessor': None,\n",
       " 'cpu_speed': '2.1 GHz',\n",
       " 'standing_screen_display_size': '\\u200e15.6 Inches',\n",
       " 'max_screen_resolution': '\\u200e1920 x 1080 Pixels',\n",
       " 'processor': '\\u200e2.1 GHz apple_ci7',\n",
       " 'ram': '\\u200e16 GB Lpddr 5',\n",
       " 'hard_drive': '\\u200eSSD',\n",
       " 'chipset_brand': '\\u200eIntel',\n",
       " 'item_model_number': '\\u200eNP950XED-KF1US',\n",
       " 'hardware_platform': '\\u200ePC',\n",
       " 'item_weight': '\\u200e2.45 pounds',\n",
       " 'product_dimensions': '\\u200e13.99 x 8.89 x 0.46 inches',\n",
       " 'item_dimensions_lxwxh': '\\u200e13.99 x 8.89 x 0.46 inches',\n",
       " 'processor_brand': '\\u200eIntel',\n",
       " 'processor_count': '\\u200e1',\n",
       " 'computer_memory_type': None,\n",
       " 'hard_drive_interface': None,\n",
       " 'batteries': '\\u200e1 Lithium Ion batteries required. (included)'}"
      ]
     },
     "execution_count": 6,
     "metadata": {},
     "output_type": "execute_result"
    }
   ],
   "source": [
    "validated_data.dict()"
   ]
  },
  {
   "cell_type": "code",
   "execution_count": 7,
   "id": "cba631b3",
   "metadata": {},
   "outputs": [
    {
     "data": {
      "text/plain": [
       "(Product(asin='B09R9FMB65', title='SAMSUNG 15.6” Galaxy Book2 Pro Laptop Computer, i7 / 16GB / 512GB, 12th Gen Intel Core Processor, Evo Certified, Lightweight, 2022 Model, Silver', brand='SAMSUNG', price_str='$1,448.97', country_of_origin=None, screen_size='15.6 Inches', color='Silver', hard_disk_size=None, cpu_model='Intel Core i7', ram_memory_installed_size='16 GB', operating_system='Windows 11 Home', card_description='Integrated', graphics_coprocessor=None, cpu_speed='2.1 GHz', standing_screen_display_size='\\u200e15.6 Inches', max_screen_resolution='\\u200e1920 x 1080 Pixels', processor='\\u200e2.1 GHz apple_ci7', ram='\\u200e16 GB Lpddr 5', hard_drive='\\u200eSSD', chipset_brand='\\u200eIntel', item_model_number='\\u200eNP950XED-KF1US', hardware_platform='\\u200ePC', item_weight='\\u200e2.45 pounds', product_dimensions='\\u200e13.99 x 8.89 x 0.46 inches', item_dimensions_lxwxh='\\u200e13.99 x 8.89 x 0.46 inches', processor_brand='\\u200eIntel', processor_count='\\u200e1', computer_memory_type=None, hard_drive_interface=None, batteries='\\u200e1 Lithium Ion batteries required. (included)'),\n",
       " ProductScrapeEvent(uuid=UUID('dc4a33c2-7ad2-11ed-ab4a-b4a9fca7bcb9'), asin='B09R9FMB65', title='SAMSUNG 15.6” Galaxy Book2 Pro Laptop Computer, i7 / 16GB / 512GB, 12th Gen Intel Core Processor, Evo Certified, Lightweight, 2022 Model, Silver', brand='SAMSUNG', country_of_origin=None, screen_size='15.6 Inches', price_str='$1,448.97', color='Silver', hard_disk_size=None, cpu_model='Intel Core i7', ram_memory_installed_size='16 GB', operating_system='Windows 11 Home', card_description='Integrated', graphics_coprocessor=None, cpu_speed='2.1 GHz', standing_screen_display_size='\\u200e15.6 Inches', max_screen_resolution='\\u200e1920 x 1080 Pixels', processor='\\u200e2.1 GHz apple_ci7', ram='\\u200e16 GB Lpddr 5', hard_drive='\\u200eSSD', chipset_brand='\\u200eIntel', item_model_number='\\u200eNP950XED-KF1US', hardware_platform='\\u200ePC', item_weight='\\u200e2.45 pounds', product_dimensions='\\u200e13.99 x 8.89 x 0.46 inches', item_dimensions_lxwxh='\\u200e13.99 x 8.89 x 0.46 inches', processor_brand='\\u200eIntel', processor_count='\\u200e1', computer_memory_type=None, hard_drive_interface=None, batteries='\\u200e1 Lithium Ion batteries required. (included)'))"
      ]
     },
     "execution_count": 7,
     "metadata": {},
     "output_type": "execute_result"
    }
   ],
   "source": [
    "session = db.get_session()\n",
    "crud.add_scrape_event(validated_data.dict())"
   ]
  },
  {
   "cell_type": "code",
   "execution_count": 8,
   "id": "f19653b0",
   "metadata": {},
   "outputs": [
    {
     "name": "stdout",
     "output_type": "stream",
     "text": [
      "SELECT * FROM web_scrape.product LIMIT 10000\n"
     ]
    }
   ],
   "source": [
    "print(models.Product.objects().all())"
   ]
  },
  {
   "cell_type": "code",
   "execution_count": 9,
   "id": "bac92a9a",
   "metadata": {},
   "outputs": [
    {
     "name": "stdout",
     "output_type": "stream",
     "text": [
      "{'asin': 'B09R9FMB65', 'batteries': '\\u200e1 Lithium Ion batteries required. (included)', 'brand': 'SAMSUNG', 'card_description': 'Integrated', 'chipset_brand': '\\u200eIntel', 'color': 'Silver', 'computer_memory_type': None, 'country_of_origin': None, 'cpu_model': 'Intel Core i7', 'cpu_speed': '2.1 GHz', 'graphics_coprocessor': None, 'hard_disk_size': None, 'hard_drive': '\\u200eSSD', 'hard_drive_interface': None, 'hardware_platform': '\\u200ePC', 'item_dimensions_lxwxh': '\\u200e13.99 x 8.89 x 0.46 inches', 'item_model_number': '\\u200eNP950XED-KF1US', 'item_weight': '\\u200e2.45 pounds', 'max_screen_resolution': '\\u200e1920 x 1080 Pixels', 'operating_system': 'Windows 11 Home', 'price': None, 'price_str': '$1,448.97', 'processor': '\\u200e2.1 GHz apple_ci7', 'processor_brand': '\\u200eIntel', 'processor_count': '\\u200e1', 'product_dimensions': '\\u200e13.99 x 8.89 x 0.46 inches', 'ram': '\\u200e16 GB Lpddr 5', 'ram_memory_installed_size': '16 GB', 'screen_size': '15.6 Inches', 'standing_screen_display_size': '\\u200e15.6 Inches', 'title': 'SAMSUNG 15.6” Galaxy Book2 Pro Laptop Computer, i7 / 16GB / 512GB, 12th Gen Intel Core Processor, Evo Certified, Lightweight, 2022 Model, Silver'}\n",
      "{'asin': 'B0BLGFBF8C', 'batteries': '\\u200e1 Lithium Ion batteries required. (included)', 'brand': 'HP', 'card_description': 'Integrated', 'chipset_brand': '\\u200eIntel', 'color': 'Red', 'computer_memory_type': '\\u200eDDR4 SDRAM', 'country_of_origin': None, 'cpu_model': 'Pentium N5000', 'cpu_speed': '1 GHz', 'graphics_coprocessor': 'Intel UHD Graphics 605', 'hard_disk_size': '1000 GB', 'hard_drive': '\\u200e1000 GB SSD', 'hard_drive_interface': '\\u200eSolid State', 'hardware_platform': '\\u200ePC', 'item_dimensions_lxwxh': '\\u200e14.11 x 9.53 x 0.78 inches', 'item_model_number': '\\u200e15-dw0083wm', 'item_weight': '\\u200e3.93 pounds', 'max_screen_resolution': '\\u200e1366 X768 Pixels', 'operating_system': 'Windows 11', 'price': None, 'price_str': '$549.99', 'processor': '\\u200e1 GHz pentium_N5000', 'processor_brand': '\\u200eIntel', 'processor_count': '\\u200e4', 'product_dimensions': '\\u200e14.11 x 9.53 x 0.78 inches', 'ram': '\\u200eDDR4', 'ram_memory_installed_size': '16 GB', 'screen_size': '15.6 Inches', 'standing_screen_display_size': '\\u200e15.6 Inches', 'title': '2022 Newest HP Laptops for College Student & Business, 15.6 inch HD Computer, Intel Pentium Silver N5000, 16GB RAM, 1TB SSD, Office 365 1-Year, Fast Charge, Light-Weight, Windows 11, ROKC HDMI Cable'}\n",
      "{'asin': 'test', 'batteries': None, 'brand': None, 'card_description': None, 'chipset_brand': None, 'color': None, 'computer_memory_type': None, 'country_of_origin': None, 'cpu_model': None, 'cpu_speed': None, 'graphics_coprocessor': None, 'hard_disk_size': None, 'hard_drive': None, 'hard_drive_interface': None, 'hardware_platform': None, 'item_dimensions_lxwxh': None, 'item_model_number': None, 'item_weight': None, 'max_screen_resolution': None, 'operating_system': None, 'price': '100', 'price_str': None, 'processor': None, 'processor_brand': None, 'processor_count': None, 'product_dimensions': None, 'ram': None, 'ram_memory_installed_size': None, 'screen_size': None, 'standing_screen_display_size': None, 'title': 'las'}\n",
      "{'asin': 'http_test', 'batteries': None, 'brand': None, 'card_description': None, 'chipset_brand': None, 'color': None, 'computer_memory_type': None, 'country_of_origin': None, 'cpu_model': None, 'cpu_speed': None, 'graphics_coprocessor': None, 'hard_disk_size': None, 'hard_drive': None, 'hard_drive_interface': None, 'hardware_platform': None, 'item_dimensions_lxwxh': None, 'item_model_number': None, 'item_weight': None, 'max_screen_resolution': None, 'operating_system': None, 'price': '100', 'price_str': '$500.00', 'processor': None, 'processor_brand': None, 'processor_count': None, 'product_dimensions': None, 'ram': None, 'ram_memory_installed_size': None, 'screen_size': None, 'standing_screen_display_size': None, 'title': 'test54321'}\n",
      "{'asin': 'B0758JHZM3', 'batteries': None, 'brand': 'Vitamix', 'card_description': None, 'chipset_brand': None, 'color': None, 'computer_memory_type': None, 'country_of_origin': 'USA', 'cpu_model': None, 'cpu_speed': None, 'graphics_coprocessor': None, 'hard_disk_size': None, 'hard_drive': None, 'hard_drive_interface': None, 'hardware_platform': None, 'item_dimensions_lxwxh': None, 'item_model_number': None, 'item_weight': None, 'max_screen_resolution': None, 'operating_system': None, 'price': None, 'price_str': '', 'processor': None, 'processor_brand': None, 'processor_count': None, 'product_dimensions': None, 'ram': None, 'ram_memory_installed_size': None, 'screen_size': None, 'standing_screen_display_size': None, 'title': 'Vitamix VM0197 Explorian Blender, Professional-Grade, 48 oz. Container, Black'}\n",
      "{'asin': 'AMZNIDNUMBERddd', 'batteries': None, 'brand': None, 'card_description': None, 'chipset_brand': None, 'color': None, 'computer_memory_type': None, 'country_of_origin': None, 'cpu_model': None, 'cpu_speed': None, 'graphics_coprocessor': None, 'hard_disk_size': None, 'hard_drive': None, 'hard_drive_interface': None, 'hardware_platform': None, 'item_dimensions_lxwxh': None, 'item_model_number': None, 'item_weight': None, 'max_screen_resolution': None, 'operating_system': None, 'price': '100', 'price_str': None, 'processor': None, 'processor_brand': None, 'processor_count': None, 'product_dimensions': None, 'ram': None, 'ram_memory_installed_size': None, 'screen_size': None, 'standing_screen_display_size': None, 'title': 'Mark 1'}\n",
      "{'asin': 'AMZNIDNUMBERdd', 'batteries': None, 'brand': None, 'card_description': None, 'chipset_brand': None, 'color': None, 'computer_memory_type': None, 'country_of_origin': None, 'cpu_model': None, 'cpu_speed': None, 'graphics_coprocessor': None, 'hard_disk_size': None, 'hard_drive': None, 'hard_drive_interface': None, 'hardware_platform': None, 'item_dimensions_lxwxh': None, 'item_model_number': None, 'item_weight': None, 'max_screen_resolution': None, 'operating_system': None, 'price': '100', 'price_str': None, 'processor': None, 'processor_brand': None, 'processor_count': None, 'product_dimensions': None, 'ram': None, 'ram_memory_installed_size': None, 'screen_size': None, 'standing_screen_display_size': None, 'title': 'Mark 2'}\n",
      "{'asin': 'AMZNIDNUMBERd', 'batteries': None, 'brand': None, 'card_description': None, 'chipset_brand': None, 'color': None, 'computer_memory_type': None, 'country_of_origin': None, 'cpu_model': None, 'cpu_speed': None, 'graphics_coprocessor': None, 'hard_disk_size': None, 'hard_drive': None, 'hard_drive_interface': None, 'hardware_platform': None, 'item_dimensions_lxwxh': None, 'item_model_number': None, 'item_weight': None, 'max_screen_resolution': None, 'operating_system': None, 'price': None, 'price_str': None, 'processor': None, 'processor_brand': None, 'processor_count': None, 'product_dimensions': None, 'ram': None, 'ram_memory_installed_size': None, 'screen_size': None, 'standing_screen_display_size': None, 'title': 'Mark 2'}\n"
     ]
    }
   ],
   "source": [
    "for row in session.execute('SELECT * FROM web_scrape.product LIMIT 1000  '):\n",
    "    print(row)"
   ]
  },
  {
   "cell_type": "code",
   "execution_count": null,
   "id": "d25bc69d",
   "metadata": {},
   "outputs": [],
   "source": []
  }
 ],
 "metadata": {
  "kernelspec": {
   "display_name": "Python 3 (ipykernel)",
   "language": "python",
   "name": "python3"
  },
  "language_info": {
   "codemirror_mode": {
    "name": "ipython",
    "version": 3
   },
   "file_extension": ".py",
   "mimetype": "text/x-python",
   "name": "python",
   "nbconvert_exporter": "python",
   "pygments_lexer": "ipython3",
   "version": "3.10.7"
  }
 },
 "nbformat": 4,
 "nbformat_minor": 5
}
