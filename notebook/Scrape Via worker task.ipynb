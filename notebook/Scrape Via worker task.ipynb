{
 "cells": [
  {
   "cell_type": "code",
   "execution_count": 1,
   "id": "bd7eca6e",
   "metadata": {},
   "outputs": [],
   "source": [
    "from requests_html import HTML\n",
    "from slugify import slugify\n",
    "import pprint\n",
    "import re\n",
    "from app import worker , db"
   ]
  },
  {
   "cell_type": "code",
   "execution_count": 2,
   "id": "363de878",
   "metadata": {},
   "outputs": [],
   "source": [
    "session = db.get_session()"
   ]
  },
  {
   "cell_type": "code",
   "execution_count": 3,
   "id": "958fb908",
   "metadata": {},
   "outputs": [
    {
     "name": "stdout",
     "output_type": "stream",
     "text": [
      "Who throws a shoe. Honestly hello.\n"
     ]
    },
    {
     "ename": "TypeError",
     "evalue": "Scraper.__init__() missing 1 required positional argument: 'url'",
     "output_type": "error",
     "traceback": [
      "\u001b[1;31m---------------------------------------------------------------------------\u001b[0m",
      "\u001b[1;31mTypeError\u001b[0m                                 Traceback (most recent call last)",
      "Cell \u001b[1;32mIn[3], line 2\u001b[0m\n\u001b[0;32m      1\u001b[0m asin \u001b[38;5;241m=\u001b[39m \u001b[38;5;124m\"\u001b[39m\u001b[38;5;124mB0758JHZM3\u001b[39m\u001b[38;5;124m\"\u001b[39m\n\u001b[1;32m----> 2\u001b[0m \u001b[43mworker\u001b[49m\u001b[38;5;241;43m.\u001b[39;49m\u001b[43mscrape_asin\u001b[49m\u001b[43m(\u001b[49m\u001b[43masin\u001b[49m\u001b[43m)\u001b[49m\n",
      "File \u001b[1;32m~\\Desktop\\web-scraping\\lib\\site-packages\\celery\\local.py:188\u001b[0m, in \u001b[0;36mProxy.__call__\u001b[1;34m(self, *a, **kw)\u001b[0m\n\u001b[0;32m    187\u001b[0m \u001b[38;5;28;01mdef\u001b[39;00m \u001b[38;5;21m__call__\u001b[39m(\u001b[38;5;28mself\u001b[39m, \u001b[38;5;241m*\u001b[39ma, \u001b[38;5;241m*\u001b[39m\u001b[38;5;241m*\u001b[39mkw):\n\u001b[1;32m--> 188\u001b[0m     \u001b[38;5;28;01mreturn\u001b[39;00m \u001b[38;5;28mself\u001b[39m\u001b[38;5;241m.\u001b[39m_get_current_object()(\u001b[38;5;241m*\u001b[39ma, \u001b[38;5;241m*\u001b[39m\u001b[38;5;241m*\u001b[39mkw)\n",
      "File \u001b[1;32m~\\Desktop\\web-scraping\\lib\\site-packages\\celery\\app\\task.py:392\u001b[0m, in \u001b[0;36mTask.__call__\u001b[1;34m(self, *args, **kwargs)\u001b[0m\n\u001b[0;32m    390\u001b[0m \u001b[38;5;28mself\u001b[39m\u001b[38;5;241m.\u001b[39mpush_request(args\u001b[38;5;241m=\u001b[39margs, kwargs\u001b[38;5;241m=\u001b[39mkwargs)\n\u001b[0;32m    391\u001b[0m \u001b[38;5;28;01mtry\u001b[39;00m:\n\u001b[1;32m--> 392\u001b[0m     \u001b[38;5;28;01mreturn\u001b[39;00m \u001b[38;5;28mself\u001b[39m\u001b[38;5;241m.\u001b[39mrun(\u001b[38;5;241m*\u001b[39margs, \u001b[38;5;241m*\u001b[39m\u001b[38;5;241m*\u001b[39mkwargs)\n\u001b[0;32m    393\u001b[0m \u001b[38;5;28;01mfinally\u001b[39;00m:\n\u001b[0;32m    394\u001b[0m     \u001b[38;5;28mself\u001b[39m\u001b[38;5;241m.\u001b[39mpop_request()\n",
      "File \u001b[1;32m~\\Desktop\\web-scraping\\app\\worker.py:77\u001b[0m, in \u001b[0;36mscrape_asin\u001b[1;34m(asin)\u001b[0m\n\u001b[0;32m     75\u001b[0m \u001b[38;5;129m@celery_app\u001b[39m\u001b[38;5;241m.\u001b[39mtask\n\u001b[0;32m     76\u001b[0m \u001b[38;5;28;01mdef\u001b[39;00m \u001b[38;5;21mscrape_asin\u001b[39m(asin):\n\u001b[1;32m---> 77\u001b[0m     s \u001b[38;5;241m=\u001b[39m \u001b[43mscraper\u001b[49m\u001b[38;5;241;43m.\u001b[39;49m\u001b[43mScraper\u001b[49m\u001b[43m(\u001b[49m\u001b[43masin\u001b[49m\u001b[38;5;241;43m=\u001b[39;49m\u001b[43masin\u001b[49m\u001b[43m,\u001b[49m\u001b[43m \u001b[49m\u001b[43mendless_scroll\u001b[49m\u001b[38;5;241;43m=\u001b[39;49m\u001b[38;5;28;43;01mTrue\u001b[39;49;00m\u001b[43m)\u001b[49m\n\u001b[0;32m     78\u001b[0m     dataset \u001b[38;5;241m=\u001b[39m s\u001b[38;5;241m.\u001b[39mscrape()\n\u001b[0;32m     79\u001b[0m     \u001b[38;5;28;01mtry\u001b[39;00m:\n",
      "\u001b[1;31mTypeError\u001b[0m: Scraper.__init__() missing 1 required positional argument: 'url'"
     ]
    }
   ],
   "source": [
    "asin = \"B0758JHZM3\"\n",
    "worker.scrape_asin(asin)"
   ]
  },
  {
   "cell_type": "code",
   "execution_count": null,
   "id": "66b99f19",
   "metadata": {},
   "outputs": [],
   "source": []
  },
  {
   "cell_type": "code",
   "execution_count": null,
   "id": "16515535",
   "metadata": {},
   "outputs": [],
   "source": []
  }
 ],
 "metadata": {
  "kernelspec": {
   "display_name": "Python 3 (ipykernel)",
   "language": "python",
   "name": "python3"
  },
  "language_info": {
   "codemirror_mode": {
    "name": "ipython",
    "version": 3
   },
   "file_extension": ".py",
   "mimetype": "text/x-python",
   "name": "python",
   "nbconvert_exporter": "python",
   "pygments_lexer": "ipython3",
   "version": "3.10.7"
  }
 },
 "nbformat": 4,
 "nbformat_minor": 5
}
