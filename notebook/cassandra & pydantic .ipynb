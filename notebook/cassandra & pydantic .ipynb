{
 "cells": [
  {
   "cell_type": "code",
   "execution_count": 1,
   "id": "af85f051",
   "metadata": {},
   "outputs": [
    {
     "ename": "ValidationError",
     "evalue": "3 validation errors for Settings\nname\n  field required (type=value_error.missing)\ndb_client_id\n  field required (type=value_error.missing)\ndb_client_secret\n  field required (type=value_error.missing)",
     "output_type": "error",
     "traceback": [
      "\u001b[1;31m---------------------------------------------------------------------------\u001b[0m",
      "\u001b[1;31mValidationError\u001b[0m                           Traceback (most recent call last)",
      "Cell \u001b[1;32mIn[1], line 2\u001b[0m\n\u001b[0;32m      1\u001b[0m \u001b[38;5;28;01mimport\u001b[39;00m \u001b[38;5;21;01muuid\u001b[39;00m\n\u001b[1;32m----> 2\u001b[0m \u001b[38;5;28;01mfrom\u001b[39;00m \u001b[38;5;21;01mapp\u001b[39;00m \u001b[38;5;28;01mimport\u001b[39;00m db , crud , models\n",
      "File \u001b[1;32m~\\Desktop\\web-scraping\\app\\db.py:12\u001b[0m\n\u001b[0;32m      8\u001b[0m \u001b[38;5;28;01mfrom\u001b[39;00m \u001b[38;5;21;01mcassandra\u001b[39;00m\u001b[38;5;21;01m.\u001b[39;00m\u001b[38;5;21;01mcqlengine\u001b[39;00m\u001b[38;5;21;01m.\u001b[39;00m\u001b[38;5;21;01mconnection\u001b[39;00m \u001b[38;5;28;01mimport\u001b[39;00m register_connection,set_default_connection\n\u001b[0;32m     10\u001b[0m \u001b[38;5;28;01mfrom\u001b[39;00m \u001b[38;5;21;01m.\u001b[39;00m \u001b[38;5;28;01mimport\u001b[39;00m config  \n\u001b[1;32m---> 12\u001b[0m settings \u001b[38;5;241m=\u001b[39m \u001b[43mconfig\u001b[49m\u001b[38;5;241;43m.\u001b[39;49m\u001b[43mget_settings\u001b[49m\u001b[43m(\u001b[49m\u001b[43m)\u001b[49m\n\u001b[0;32m     14\u001b[0m ASTRA_DB_CLIENT_ID \u001b[38;5;241m=\u001b[39m settings\u001b[38;5;241m.\u001b[39mdb_client_id\n\u001b[0;32m     15\u001b[0m ASTRA_DB_CLIENT_SECRET \u001b[38;5;241m=\u001b[39m settings\u001b[38;5;241m.\u001b[39mdb_client_secret\n",
      "File \u001b[1;32m~\\Desktop\\web-scraping\\app\\config.py:20\u001b[0m, in \u001b[0;36mget_settings\u001b[1;34m()\u001b[0m\n\u001b[0;32m     18\u001b[0m \u001b[38;5;129m@lru_cache\u001b[39m\n\u001b[0;32m     19\u001b[0m \u001b[38;5;28;01mdef\u001b[39;00m \u001b[38;5;21mget_settings\u001b[39m():\n\u001b[1;32m---> 20\u001b[0m     \u001b[38;5;28;01mreturn\u001b[39;00m \u001b[43mSettings\u001b[49m\u001b[43m(\u001b[49m\u001b[43m)\u001b[49m\n",
      "File \u001b[1;32m~\\Desktop\\web-scraping\\lib\\site-packages\\pydantic\\env_settings.py:39\u001b[0m, in \u001b[0;36mpydantic.env_settings.BaseSettings.__init__\u001b[1;34m()\u001b[0m\n",
      "File \u001b[1;32m~\\Desktop\\web-scraping\\lib\\site-packages\\pydantic\\main.py:342\u001b[0m, in \u001b[0;36mpydantic.main.BaseModel.__init__\u001b[1;34m()\u001b[0m\n",
      "\u001b[1;31mValidationError\u001b[0m: 3 validation errors for Settings\nname\n  field required (type=value_error.missing)\ndb_client_id\n  field required (type=value_error.missing)\ndb_client_secret\n  field required (type=value_error.missing)"
     ]
    }
   ],
   "source": [
    "import uuid\n",
    "from app import db , crud , models , schema"
   ]
  },
  {
   "cell_type": "code",
   "execution_count": null,
   "id": "e7a1ccde",
   "metadata": {},
   "outputs": [],
   "source": [
    "session = db.get_session()"
   ]
  },
  {
   "cell_type": "code",
   "execution_count": null,
   "id": "bb973f7d",
   "metadata": {},
   "outputs": [],
   "source": [
    "data = {'asin': 'AMZNIDNUMBERddd', 'title': 'Mark 1', 'abc123':'nothing'}"
   ]
  },
  {
   "cell_type": "code",
   "execution_count": null,
   "id": "2d1665a0",
   "metadata": {},
   "outputs": [],
   "source": [
    "# pydantic is a python lib for data modeling / parsing that has efficeint error handling and cotom validation , \n",
    "# mostly in fast api for parsing requests and responses cause pydantic build in support for JSON encoding and decoding\n",
    "# the reason for using pydantic if  you are converting an old project that is running in fast api to use cassandra db \n",
    "from pydantic import BaseModel"
   ]
  },
  {
   "cell_type": "code",
   "execution_count": null,
   "id": "aa455604",
   "metadata": {},
   "outputs": [],
   "source": [
    "class ProductBaseModel(BaseModel):\n",
    "    asin: str\n",
    "    title: str\n",
    "    abc123: str"
   ]
  },
  {
   "cell_type": "code",
   "execution_count": null,
   "id": "aaa7e43f",
   "metadata": {},
   "outputs": [],
   "source": [
    "product = ProductBaseModel(**data)\n",
    "product.dict()"
   ]
  },
  {
   "cell_type": "code",
   "execution_count": null,
   "id": "c6f71410",
   "metadata": {},
   "outputs": [],
   "source": [
    "data = dict(data)\n",
    "data['uuid'] = uuid.uuid1()\n",
    "schema.ProductScrapeEventSchema(**data)"
   ]
  },
  {
   "cell_type": "code",
   "execution_count": null,
   "id": "1486548b",
   "metadata": {},
   "outputs": [],
   "source": []
  },
  {
   "cell_type": "code",
   "execution_count": null,
   "id": "c8414d2e",
   "metadata": {},
   "outputs": [],
   "source": []
  }
 ],
 "metadata": {
  "kernelspec": {
   "display_name": "Python 3 (ipykernel)",
   "language": "python",
   "name": "python3"
  },
  "language_info": {
   "codemirror_mode": {
    "name": "ipython",
    "version": 3
   },
   "file_extension": ".py",
   "mimetype": "text/x-python",
   "name": "python",
   "nbconvert_exporter": "python",
   "pygments_lexer": "ipython3",
   "version": "3.10.7"
  }
 },
 "nbformat": 4,
 "nbformat_minor": 5
}
