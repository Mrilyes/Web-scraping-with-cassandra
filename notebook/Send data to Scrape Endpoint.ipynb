{
 "cells": [
  {
   "cell_type": "code",
   "execution_count": 1,
   "id": "d9a74f3c",
   "metadata": {},
   "outputs": [],
   "source": [
    "import requests"
   ]
  },
  {
   "cell_type": "code",
   "execution_count": 2,
   "id": "536ba536",
   "metadata": {},
   "outputs": [
    {
     "name": "stdout",
     "output_type": "stream",
     "text": [
      "{'asin': 'http_test', 'title': 'test54321', 'price_str': '$500.00'}\n"
     ]
    }
   ],
   "source": [
    "endpoint = \"http://127.0.0.1:8000/events/scrape\"\n",
    "asin='http_test'\n",
    "r = requests.post(endpoint,json={\"asin\":asin, 'title':'test54321','price_str':'$500.00'})\n",
    "print(r.json())"
   ]
  },
  {
   "cell_type": "code",
   "execution_count": 3,
   "id": "0aa21e56",
   "metadata": {},
   "outputs": [
    {
     "name": "stdout",
     "output_type": "stream",
     "text": [
      "{'asin': 'http_test', 'title': 'test54321', 'price_str': '$500.00', 'events': [{'asin': 'http_test', 'title': 'test54321', 'price_str': '$500.00', 'created': '2022-12-09T14:04:44.931912'}, {'asin': 'http_test', 'title': 'test54321', 'price_str': '$500.00', 'created': '2022-12-09T14:12:06.252618'}, {'asin': 'http_test', 'title': 'test54321', 'price_str': '$500.00', 'created': '2022-12-09T14:12:07.136650'}, {'asin': 'http_test', 'title': 'test12345', 'price_str': None, 'created': '2022-12-08T18:59:24.141977'}, {'asin': 'http_test', 'title': 'test54321', 'price_str': '$500.00', 'created': '2022-12-09T14:12:09.817402'}, {'asin': 'http_test', 'title': 'test54321', 'price_str': None, 'created': '2022-12-08T19:07:02.552576'}, {'asin': 'http_test', 'title': 'test54321', 'price_str': '$500.00', 'created': '2022-12-09T14:12:07.900313'}, {'asin': 'http_test', 'title': 'test54321', 'price_str': None, 'created': '2022-12-08T19:12:07.420304'}, {'asin': 'http_test', 'title': 'test54321', 'price_str': '$500.00', 'created': '2022-12-09T14:12:08.630893'}, {'asin': 'http_test', 'title': 'test54321', 'price_str': None, 'created': '2022-12-09T13:57:52.340220'}, {'asin': 'http_test', 'title': 'test54321', 'price_str': None, 'created': '2022-12-09T14:03:40.011293'}, {'asin': 'http_test', 'title': 'test54321', 'price_str': '$500.00', 'created': '2022-12-09T14:12:09.083537'}, {'asin': 'http_test', 'title': 'test54321', 'price_str': '$500.00', 'created': '2022-12-09T14:12:04.379137'}, {'asin': 'http_test', 'title': 'test54321', 'price_str': '$500.00', 'created': '2022-12-09T14:12:09.479468'}, {'asin': 'http_test', 'title': 'test54321', 'price_str': None, 'created': '2022-12-08T19:10:57.259710'}, {'asin': 'http_test', 'title': 'test54321', 'price_str': '$500.00', 'created': '2022-12-10T10:26:31.154573'}, {'asin': 'http_test', 'title': 'test54321', 'price_str': None, 'created': '2022-12-08T19:04:55.437812'}, {'asin': 'http_test', 'title': 'test54321', 'price_str': None, 'created': '2022-12-08T19:11:11.086561'}, {'asin': 'http_test', 'title': 'test54321', 'price_str': '$500.00', 'created': '2022-12-09T14:12:03.414017'}, {'asin': 'http_test', 'title': 'test54321', 'price_str': '$500.00', 'created': '2022-12-09T14:12:05.395725'}], 'events_url': '/products/http_test/events'}\n"
     ]
    }
   ],
   "source": [
    "endpoint2 = f'http://127.0.0.1:8000/products/{asin}'\n",
    "r2 = requests.get(endpoint2)\n",
    "print(r2.json())"
   ]
  },
  {
   "cell_type": "code",
   "execution_count": null,
   "id": "205682eb",
   "metadata": {},
   "outputs": [],
   "source": []
  }
 ],
 "metadata": {
  "kernelspec": {
   "display_name": "Python 3 (ipykernel)",
   "language": "python",
   "name": "python3"
  },
  "language_info": {
   "codemirror_mode": {
    "name": "ipython",
    "version": 3
   },
   "file_extension": ".py",
   "mimetype": "text/x-python",
   "name": "python",
   "nbconvert_exporter": "python",
   "pygments_lexer": "ipython3",
   "version": "3.10.7"
  }
 },
 "nbformat": 4,
 "nbformat_minor": 5
}
